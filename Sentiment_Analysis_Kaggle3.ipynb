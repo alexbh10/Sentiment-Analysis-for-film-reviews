{
 "cells": [
  {
   "cell_type": "markdown",
   "id": "08409a27",
   "metadata": {},
   "source": [
    "# Carga de paquetes"
   ]
  },
  {
   "cell_type": "code",
   "execution_count": 21,
   "id": "4db7a3f1",
   "metadata": {},
   "outputs": [],
   "source": [
    "import pandas as pd\n",
    "import numpy as np\n",
    "import matplotlib.pyplot as plt\n",
    "%matplotlib inline\n",
    "\n",
    "import seaborn as sns\n",
    "\n",
    "#Autocompletar rápido\n",
    "%config IPCompleter.greedy=True\n",
    "\n",
    "#Desactivar los warnings\n",
    "import warnings\n",
    "warnings.filterwarnings('ignore')\n",
    "\n",
    "# Quitar notación científica\n",
    "pd.options.display.float_format = '{:.2f}'.format"
   ]
  },
  {
   "cell_type": "markdown",
   "id": "161ecf56",
   "metadata": {},
   "source": [
    "# Importación de datos"
   ]
  },
  {
   "cell_type": "code",
   "execution_count": 22,
   "id": "8b54841d",
   "metadata": {
    "scrolled": false
   },
   "outputs": [
    {
     "data": {
      "text/html": [
       "<div>\n",
       "<style scoped>\n",
       "    .dataframe tbody tr th:only-of-type {\n",
       "        vertical-align: middle;\n",
       "    }\n",
       "\n",
       "    .dataframe tbody tr th {\n",
       "        vertical-align: top;\n",
       "    }\n",
       "\n",
       "    .dataframe thead th {\n",
       "        text-align: right;\n",
       "    }\n",
       "</style>\n",
       "<table border=\"1\" class=\"dataframe\">\n",
       "  <thead>\n",
       "    <tr style=\"text-align: right;\">\n",
       "      <th></th>\n",
       "      <th>film_name</th>\n",
       "      <th>gender</th>\n",
       "      <th>film_avg_rate</th>\n",
       "      <th>review_rate</th>\n",
       "      <th>review_title</th>\n",
       "      <th>review_text</th>\n",
       "    </tr>\n",
       "  </thead>\n",
       "  <tbody>\n",
       "    <tr>\n",
       "      <th>0</th>\n",
       "      <td>Ocho apellidos vascos</td>\n",
       "      <td>Comedia</td>\n",
       "      <td>6,0</td>\n",
       "      <td>3.00</td>\n",
       "      <td>OCHO APELLIDOS VASCOS...Y NINGÚN NOMBRE PROPIO</td>\n",
       "      <td>La mayor virtud de esta película es su existen...</td>\n",
       "    </tr>\n",
       "    <tr>\n",
       "      <th>1</th>\n",
       "      <td>Ocho apellidos vascos</td>\n",
       "      <td>Comedia</td>\n",
       "      <td>6,0</td>\n",
       "      <td>2.00</td>\n",
       "      <td>El perro verde</td>\n",
       "      <td>No soy un experto cinéfilo, pero pocas veces m...</td>\n",
       "    </tr>\n",
       "    <tr>\n",
       "      <th>2</th>\n",
       "      <td>Ocho apellidos vascos</td>\n",
       "      <td>Comedia</td>\n",
       "      <td>6,0</td>\n",
       "      <td>2.00</td>\n",
       "      <td>Si no eres de comer mierda... no te comas esta...</td>\n",
       "      <td>Si no eres un incondicional del humor estilo T...</td>\n",
       "    </tr>\n",
       "    <tr>\n",
       "      <th>3</th>\n",
       "      <td>Ocho apellidos vascos</td>\n",
       "      <td>Comedia</td>\n",
       "      <td>6,0</td>\n",
       "      <td>2.00</td>\n",
       "      <td>Aida: The movie</td>\n",
       "      <td>No sé qué está pasando, si la gente se deja ll...</td>\n",
       "    </tr>\n",
       "    <tr>\n",
       "      <th>4</th>\n",
       "      <td>Ocho apellidos vascos</td>\n",
       "      <td>Comedia</td>\n",
       "      <td>6,0</td>\n",
       "      <td>2.00</td>\n",
       "      <td>UN HOMBRE SOLO (Julio Iglesias 1987)</td>\n",
       "      <td>\"Pero cuando amanece,y me quedo solo,siento en...</td>\n",
       "    </tr>\n",
       "  </tbody>\n",
       "</table>\n",
       "</div>"
      ],
      "text/plain": [
       "               film_name   gender film_avg_rate  review_rate  \\\n",
       "0  Ocho apellidos vascos  Comedia           6,0         3.00   \n",
       "1  Ocho apellidos vascos  Comedia           6,0         2.00   \n",
       "2  Ocho apellidos vascos  Comedia           6,0         2.00   \n",
       "3  Ocho apellidos vascos  Comedia           6,0         2.00   \n",
       "4  Ocho apellidos vascos  Comedia           6,0         2.00   \n",
       "\n",
       "                                        review_title  \\\n",
       "0     OCHO APELLIDOS VASCOS...Y NINGÚN NOMBRE PROPIO   \n",
       "1                                     El perro verde   \n",
       "2  Si no eres de comer mierda... no te comas esta...   \n",
       "3                                    Aida: The movie   \n",
       "4               UN HOMBRE SOLO (Julio Iglesias 1987)   \n",
       "\n",
       "                                         review_text  \n",
       "0  La mayor virtud de esta película es su existen...  \n",
       "1  No soy un experto cinéfilo, pero pocas veces m...  \n",
       "2  Si no eres un incondicional del humor estilo T...  \n",
       "3  No sé qué está pasando, si la gente se deja ll...  \n",
       "4  \"Pero cuando amanece,y me quedo solo,siento en...  "
      ]
     },
     "execution_count": 22,
     "metadata": {},
     "output_type": "execute_result"
    }
   ],
   "source": [
    "df = pd.read_csv('reviews_filmaffinity.csv',  sep='\\|\\|', header = 0, engine = 'python')\n",
    "df.head()"
   ]
  },
  {
   "cell_type": "markdown",
   "id": "84b6cee0",
   "metadata": {},
   "source": [
    "# Calidad de datos"
   ]
  },
  {
   "cell_type": "markdown",
   "id": "6a150d34",
   "metadata": {},
   "source": [
    "## Corrección de datos"
   ]
  },
  {
   "cell_type": "markdown",
   "id": "238cb23a",
   "metadata": {},
   "source": [
    "Comprobamos que 'film_avg_rate' no corresponde realmente al valor que debería tener"
   ]
  },
  {
   "cell_type": "code",
   "execution_count": 23,
   "id": "44c7c8e2",
   "metadata": {},
   "outputs": [
    {
     "data": {
      "text/plain": [
       "film_name\n",
       "Ocho apellidos vascos    5.48\n",
       "Palmeras en la nieve     5.35\n",
       "Perdiendo el norte       4.74\n",
       "Perfectos desconocidos   6.38\n",
       "Name: review_rate, dtype: float64"
      ]
     },
     "execution_count": 23,
     "metadata": {},
     "output_type": "execute_result"
    }
   ],
   "source": [
    "df.groupby('film_name')['review_rate'].mean()[26:30]"
   ]
  },
  {
   "cell_type": "markdown",
   "id": "7caac765",
   "metadata": {},
   "source": [
    "Creamos nuestro propio 'avg_rate'"
   ]
  },
  {
   "cell_type": "code",
   "execution_count": 24,
   "id": "d7e1f84b",
   "metadata": {},
   "outputs": [],
   "source": [
    "mydict = dict(df.groupby('film_name')['review_rate'].mean())"
   ]
  },
  {
   "cell_type": "code",
   "execution_count": 25,
   "id": "fc385c10",
   "metadata": {},
   "outputs": [],
   "source": [
    "def asociar_media(x):\n",
    "    for peli, nota_media in mydict.items():\n",
    "        if x == peli:\n",
    "            resultado = round(nota_media,1)\n",
    "    return(resultado)"
   ]
  },
  {
   "cell_type": "code",
   "execution_count": 26,
   "id": "87465c48",
   "metadata": {},
   "outputs": [
    {
     "data": {
      "text/html": [
       "<div>\n",
       "<style scoped>\n",
       "    .dataframe tbody tr th:only-of-type {\n",
       "        vertical-align: middle;\n",
       "    }\n",
       "\n",
       "    .dataframe tbody tr th {\n",
       "        vertical-align: top;\n",
       "    }\n",
       "\n",
       "    .dataframe thead th {\n",
       "        text-align: right;\n",
       "    }\n",
       "</style>\n",
       "<table border=\"1\" class=\"dataframe\">\n",
       "  <thead>\n",
       "    <tr style=\"text-align: right;\">\n",
       "      <th></th>\n",
       "      <th>film_name</th>\n",
       "      <th>gender</th>\n",
       "      <th>review_rate</th>\n",
       "      <th>review_title</th>\n",
       "      <th>review_text</th>\n",
       "      <th>avg_rate</th>\n",
       "    </tr>\n",
       "  </thead>\n",
       "  <tbody>\n",
       "    <tr>\n",
       "      <th>0</th>\n",
       "      <td>Ocho apellidos vascos</td>\n",
       "      <td>Comedia</td>\n",
       "      <td>3.00</td>\n",
       "      <td>OCHO APELLIDOS VASCOS...Y NINGÚN NOMBRE PROPIO</td>\n",
       "      <td>La mayor virtud de esta película es su existen...</td>\n",
       "      <td>5.50</td>\n",
       "    </tr>\n",
       "    <tr>\n",
       "      <th>1</th>\n",
       "      <td>Ocho apellidos vascos</td>\n",
       "      <td>Comedia</td>\n",
       "      <td>2.00</td>\n",
       "      <td>El perro verde</td>\n",
       "      <td>No soy un experto cinéfilo, pero pocas veces m...</td>\n",
       "      <td>5.50</td>\n",
       "    </tr>\n",
       "    <tr>\n",
       "      <th>2</th>\n",
       "      <td>Ocho apellidos vascos</td>\n",
       "      <td>Comedia</td>\n",
       "      <td>2.00</td>\n",
       "      <td>Si no eres de comer mierda... no te comas esta...</td>\n",
       "      <td>Si no eres un incondicional del humor estilo T...</td>\n",
       "      <td>5.50</td>\n",
       "    </tr>\n",
       "    <tr>\n",
       "      <th>3</th>\n",
       "      <td>Ocho apellidos vascos</td>\n",
       "      <td>Comedia</td>\n",
       "      <td>2.00</td>\n",
       "      <td>Aida: The movie</td>\n",
       "      <td>No sé qué está pasando, si la gente se deja ll...</td>\n",
       "      <td>5.50</td>\n",
       "    </tr>\n",
       "    <tr>\n",
       "      <th>4</th>\n",
       "      <td>Ocho apellidos vascos</td>\n",
       "      <td>Comedia</td>\n",
       "      <td>2.00</td>\n",
       "      <td>UN HOMBRE SOLO (Julio Iglesias 1987)</td>\n",
       "      <td>\"Pero cuando amanece,y me quedo solo,siento en...</td>\n",
       "      <td>5.50</td>\n",
       "    </tr>\n",
       "  </tbody>\n",
       "</table>\n",
       "</div>"
      ],
      "text/plain": [
       "               film_name   gender  review_rate  \\\n",
       "0  Ocho apellidos vascos  Comedia         3.00   \n",
       "1  Ocho apellidos vascos  Comedia         2.00   \n",
       "2  Ocho apellidos vascos  Comedia         2.00   \n",
       "3  Ocho apellidos vascos  Comedia         2.00   \n",
       "4  Ocho apellidos vascos  Comedia         2.00   \n",
       "\n",
       "                                        review_title  \\\n",
       "0     OCHO APELLIDOS VASCOS...Y NINGÚN NOMBRE PROPIO   \n",
       "1                                     El perro verde   \n",
       "2  Si no eres de comer mierda... no te comas esta...   \n",
       "3                                    Aida: The movie   \n",
       "4               UN HOMBRE SOLO (Julio Iglesias 1987)   \n",
       "\n",
       "                                         review_text  avg_rate  \n",
       "0  La mayor virtud de esta película es su existen...      5.50  \n",
       "1  No soy un experto cinéfilo, pero pocas veces m...      5.50  \n",
       "2  Si no eres un incondicional del humor estilo T...      5.50  \n",
       "3  No sé qué está pasando, si la gente se deja ll...      5.50  \n",
       "4  \"Pero cuando amanece,y me quedo solo,siento en...      5.50  "
      ]
     },
     "execution_count": 26,
     "metadata": {},
     "output_type": "execute_result"
    }
   ],
   "source": [
    "df['avg_rate'] = df.film_name.transform(lambda x: asociar_media(x))\n",
    "\n",
    "#borramos la columna film_avg_rate\n",
    "df.drop(columns = 'film_avg_rate', inplace = True)\n",
    "df.head()"
   ]
  },
  {
   "cell_type": "code",
   "execution_count": 27,
   "id": "86fd9973",
   "metadata": {},
   "outputs": [],
   "source": [
    "#reordenamos las columnas\n",
    "df = df[['film_name','gender','avg_rate','review_rate','review_title','review_text']]"
   ]
  },
  {
   "cell_type": "markdown",
   "id": "98304804",
   "metadata": {},
   "source": [
    "## Nulos, duplicados y cadenas vacías"
   ]
  },
  {
   "cell_type": "code",
   "execution_count": 28,
   "id": "25d7cc09",
   "metadata": {},
   "outputs": [
    {
     "data": {
      "text/plain": [
       "film_name       0\n",
       "gender          0\n",
       "avg_rate        0\n",
       "review_rate     2\n",
       "review_title    0\n",
       "review_text     0\n",
       "dtype: int64"
      ]
     },
     "execution_count": 28,
     "metadata": {},
     "output_type": "execute_result"
    }
   ],
   "source": [
    "# Comprobamos si hay valores nulos\n",
    "df.isna().sum()"
   ]
  },
  {
   "cell_type": "code",
   "execution_count": 29,
   "id": "4083085b",
   "metadata": {},
   "outputs": [],
   "source": [
    "# Eliminamos esos dos registros\n",
    "df.dropna(inplace = True)"
   ]
  },
  {
   "cell_type": "code",
   "execution_count": 30,
   "id": "0afd8438",
   "metadata": {},
   "outputs": [
    {
     "data": {
      "text/plain": [
       "0"
      ]
     },
     "execution_count": 30,
     "metadata": {},
     "output_type": "execute_result"
    }
   ],
   "source": [
    "# Comprobamos si hay duplicados\n",
    "df.duplicated().sum()"
   ]
  },
  {
   "cell_type": "code",
   "execution_count": 31,
   "id": "ab386cf8",
   "metadata": {},
   "outputs": [
    {
     "name": "stdout",
     "output_type": "stream",
     "text": [
      "[]\n",
      "[]\n"
     ]
    }
   ],
   "source": [
    "# Comprobamos si la variable 'review_title' o 'review_text' contiene cadenas vacias\n",
    "blanks_rtitle = []\n",
    "blanks_rtext = []\n",
    "temp = df[['review_title','review_text']].copy()\n",
    "\n",
    "for i, rtitle, rtext in temp.itertuples():  # iteramos a través del df\n",
    "    if type(rtitle) == str:                 # evitamos los valores nulos\n",
    "        if rtitle.isspace():                # comprobamos si hay registros en blanco\n",
    "            blanks_rtitle.append(i)         # añadimos el índice a la lista\n",
    "            \n",
    "    if type(rtext) == str:                  # hacemos lo mismo para la variable 'review_text'                \n",
    "        if rtext.isspace():               \n",
    "            blanks_rtext.append(i)\n",
    "\n",
    "print(blanks_rtitle)\n",
    "print(blanks_rtext)"
   ]
  },
  {
   "cell_type": "markdown",
   "id": "e9e618df",
   "metadata": {},
   "source": [
    "## Definición de la target"
   ]
  },
  {
   "cell_type": "code",
   "execution_count": 32,
   "id": "bfbf8c34",
   "metadata": {},
   "outputs": [],
   "source": [
    "#Definimos la target a través de las puntuaciones de cada película\n",
    "df['target'] = df['review_rate'].apply(lambda x: 'positivo' if x > 6\n",
    "                                  else('negativo' if x < 4\n",
    "                                  else 'neutro'))"
   ]
  },
  {
   "cell_type": "markdown",
   "id": "8448485d",
   "metadata": {},
   "source": [
    "# Limpieza y tokenización"
   ]
  },
  {
   "cell_type": "markdown",
   "id": "fa24581d",
   "metadata": {},
   "source": [
    "## Tokenización"
   ]
  },
  {
   "cell_type": "code",
   "execution_count": 33,
   "id": "d36d8dad",
   "metadata": {},
   "outputs": [],
   "source": [
    "import re\n",
    "\n",
    "def quitar_tildes(palabra):\n",
    "    #Definimos la versión con tildes y símbolos y la sin\n",
    "    con = 'áéíóúüñÁÉÍÓÚÜÑ'\n",
    "    sin = 'aeiouunAEIOUUN'\n",
    "    #Creamos un traductor\n",
    "    traductor = str.maketrans(con,sin)\n",
    "    #Aplicamos el traductor y devolvemos la palabra limpia\n",
    "    return(palabra.translate(traductor))\n",
    "\n",
    "\n",
    "#Cargamos la lista de stopwords\n",
    "stop = pd.read_csv('../../../00_DATASETS/stop_words_spanish.txt',names = ['termino'])\n",
    "stop['limpias'] = stop.termino.apply(quitar_tildes)\n",
    "\n",
    "\n",
    "# Función para eliminar stop_words\n",
    "def quitar_stop_words(registro):\n",
    "    for stop_word in stop.limpias.to_list():\n",
    "        for word in registro:\n",
    "            if word == stop_word:\n",
    "                registro.remove(word)\n",
    "    return(registro)\n",
    "\n",
    "\n",
    "def limpiar_tokenizar(texto):\n",
    "    '''\n",
    "    Esta función limpia y tokeniza el texto en palabras individuales.\n",
    "    El orden en el que se va limpiando el texto no es arbitrario.\n",
    "    El listado de signos de puntuación se ha obtenido de: print(string.punctuation)\n",
    "    y re.escape(string.punctuation)\n",
    "    '''\n",
    "    \n",
    "    # Se convierte todo el texto a minúsculas\n",
    "    nuevo_texto = texto.lower()\n",
    "    # Eliminación de páginas web (palabras que empiezan por \"http\")\n",
    "    nuevo_texto = re.sub('http\\S+', ' ', nuevo_texto)\n",
    "    # Eliminación de signos de puntuación\n",
    "    regex = '[\\\\!\\\\\"\\\\#\\\\$\\\\%\\\\&\\\\\\'\\\\(\\\\)\\\\*\\\\+\\\\,\\\\-\\\\.\\\\/\\\\:\\\\;\\\\<\\\\=\\\\>\\\\?\\\\@\\\\[\\\\\\\\\\\\]\\\\^_\\\\`\\\\{\\\\|\\\\}\\\\~]'\n",
    "    nuevo_texto = re.sub(regex , ' ', nuevo_texto)\n",
    "    # Eliminación de números\n",
    "    nuevo_texto = re.sub(\"\\d+\", ' ', nuevo_texto)\n",
    "    # Eliminación de espacios en blanco múltiples\n",
    "    nuevo_texto = re.sub(\"\\\\s+\", ' ', nuevo_texto)\n",
    "    # Tokenización por palabras individuales\n",
    "    nuevo_texto = nuevo_texto.split(sep = ' ')\n",
    "    # Eliminación de tokens con una longitud < 2\n",
    "    nuevo_texto = [token for token in nuevo_texto if len(token) > 1]\n",
    "    # Eliminamos las tildes/acentos de cada palabra\n",
    "    nuevo_texto = [quitar_tildes(word) for word in nuevo_texto]\n",
    "    # Eliminamos las stop_words del texto\n",
    "    nuevo_texto = quitar_stop_words(nuevo_texto)\n",
    "    \n",
    "    return(nuevo_texto)"
   ]
  },
  {
   "cell_type": "code",
   "execution_count": 34,
   "id": "42c4f411",
   "metadata": {},
   "outputs": [
    {
     "name": "stderr",
     "output_type": "stream",
     "text": [
      "100%|█████████████████████████████████████| 8601/8601 [00:35<00:00, 240.92it/s]\n"
     ]
    }
   ],
   "source": [
    "from tqdm import tqdm\n",
    "tqdm.pandas()\n",
    "df['text_cleaned'] = df['review_text'].progress_apply(lambda x: limpiar_tokenizar(x))"
   ]
  },
  {
   "cell_type": "markdown",
   "id": "1e3391d9",
   "metadata": {},
   "source": [
    "# Análisis exploratorio"
   ]
  },
  {
   "cell_type": "code",
   "execution_count": 40,
   "id": "965f7a2a",
   "metadata": {},
   "outputs": [
    {
     "data": {
      "image/png": "[encoded data removed]",
      "text/plain": [
       "<Figure size 432x432 with 1 Axes>"
      ]
     },
     "metadata": {
      "needs_background": "light"
     },
     "output_type": "display_data"
    }
   ],
   "source": [
    "# Visualizamos la distribución de votos\n",
    "f, ax = plt.subplots(figsize = (6,6))\n",
    "sns.countplot(x = 'review_rate', color = 'b', data = df)\n",
    "plt.title('Distribución de votos')\n",
    "plt.xlabel('Notas')\n",
    "plt.ylabel('Nº votos');"
   ]
  },
  {
   "cell_type": "code",
   "execution_count": 41,
   "id": "49922b57",
   "metadata": {},
   "outputs": [
    {
     "data": {
      "image/png": "[encoded data removed]",
      "text/plain": [
       "<Figure size 432x432 with 1 Axes>"
      ]
     },
     "metadata": {
      "needs_background": "light"
     },
     "output_type": "display_data"
    }
   ],
   "source": [
    "# Visualizamos la distribución de la target\n",
    "f, ax = plt.subplots(figsize = (6,6))\n",
    "sns.countplot(x = 'target', data = df, order = ['positivo','neutro','negativo'])\n",
    "plt.xlabel('target')\n",
    "plt.ylabel('Nº votos')\n",
    "plt.title('Distribución target');"
   ]
  },
  {
   "cell_type": "code",
   "execution_count": 42,
   "id": "c3388110",
   "metadata": {},
   "outputs": [
    {
     "data": {
      "image/png": "[encoded data removed]",
      "text/plain": [
       "<Figure size 504x504 with 1 Axes>"
      ]
     },
     "metadata": {
      "needs_background": "light"
     },
     "output_type": "display_data"
    }
   ],
   "source": [
    "# Visualización de la distribución del género de películas\n",
    "orden_genero = list(df.gender.value_counts().reset_index()['index'])\n",
    "f, ax = plt.subplots(figsize = (7,7))\n",
    "sns.countplot(x = 'gender', data = df, order = orden_genero)\n",
    "ax.tick_params(axis = 'x', labelsize = 13, labelrotation = 90)\n",
    "ax.tick_params(axis = 'y', labelsize = 13, labelrotation = 90)\n",
    "plt.xlabel('Género', fontsize = 12)\n",
    "plt.ylabel('Nº películas', fontsize = 12)\n",
    "plt.title('Distribución género de películas');"
   ]
  },
  {
   "cell_type": "code",
   "execution_count": 43,
   "id": "bbefd8a2",
   "metadata": {
    "scrolled": false
   },
   "outputs": [
    {
     "data": {
      "image/png": "[encoded data removed]",
      "text/plain": [
       "<Figure size 1152x6912 with 48 Axes>"
      ]
     },
     "metadata": {
      "needs_background": "light"
     },
     "output_type": "display_data"
    }
   ],
   "source": [
    "# Distribución de los votos por película\n",
    "temp = df.copy()\n",
    "from math import ceil\n",
    "filas = ceil(temp.film_name.value_counts().size / 3)\n",
    "\n",
    "# definimos el gráfico\n",
    "f, ax = plt.subplots(nrows = filas, ncols = 3, figsize = (16, filas*6), sharey = True)\n",
    "\n",
    "#Aplanamos para iterar por el gráfico como si fuera de 1 dimensión en lugar de 2\n",
    "ax = ax.flat \n",
    "\n",
    "for cada, x in zip(temp.film_name.unique(), range(temp.film_name.value_counts().size)):\n",
    "    sns.countplot(x = 'review_rate', data = temp.loc[temp.film_name == cada], ax = ax[x])\n",
    "    ax[x].set_title(cada, fontsize = 10, fontweight = \"bold\")"
   ]
  },
  {
   "cell_type": "markdown",
   "id": "2e39dfe8",
   "metadata": {},
   "source": [
    "## Frecuencia de palabras"
   ]
  },
  {
   "cell_type": "code",
   "execution_count": 44,
   "id": "f2d48562",
   "metadata": {},
   "outputs": [
    {
     "data": {
      "text/html": [
       "<div>\n",
       "<style scoped>\n",
       "    .dataframe tbody tr th:only-of-type {\n",
       "        vertical-align: middle;\n",
       "    }\n",
       "\n",
       "    .dataframe tbody tr th {\n",
       "        vertical-align: top;\n",
       "    }\n",
       "\n",
       "    .dataframe thead th {\n",
       "        text-align: right;\n",
       "    }\n",
       "</style>\n",
       "<table border=\"1\" class=\"dataframe\">\n",
       "  <thead>\n",
       "    <tr style=\"text-align: right;\">\n",
       "      <th></th>\n",
       "      <th>film_name</th>\n",
       "      <th>gender</th>\n",
       "      <th>avg_rate</th>\n",
       "      <th>review_rate</th>\n",
       "      <th>review_title</th>\n",
       "      <th>target</th>\n",
       "      <th>token</th>\n",
       "    </tr>\n",
       "  </thead>\n",
       "  <tbody>\n",
       "    <tr>\n",
       "      <th>0</th>\n",
       "      <td>Ocho apellidos vascos</td>\n",
       "      <td>Comedia</td>\n",
       "      <td>5.50</td>\n",
       "      <td>3.00</td>\n",
       "      <td>OCHO APELLIDOS VASCOS...Y NINGÚN NOMBRE PROPIO</td>\n",
       "      <td>negativo</td>\n",
       "      <td>virtud</td>\n",
       "    </tr>\n",
       "    <tr>\n",
       "      <th>0</th>\n",
       "      <td>Ocho apellidos vascos</td>\n",
       "      <td>Comedia</td>\n",
       "      <td>5.50</td>\n",
       "      <td>3.00</td>\n",
       "      <td>OCHO APELLIDOS VASCOS...Y NINGÚN NOMBRE PROPIO</td>\n",
       "      <td>negativo</td>\n",
       "      <td>pelicula</td>\n",
       "    </tr>\n",
       "    <tr>\n",
       "      <th>0</th>\n",
       "      <td>Ocho apellidos vascos</td>\n",
       "      <td>Comedia</td>\n",
       "      <td>5.50</td>\n",
       "      <td>3.00</td>\n",
       "      <td>OCHO APELLIDOS VASCOS...Y NINGÚN NOMBRE PROPIO</td>\n",
       "      <td>negativo</td>\n",
       "      <td>existencia</td>\n",
       "    </tr>\n",
       "  </tbody>\n",
       "</table>\n",
       "</div>"
      ],
      "text/plain": [
       "               film_name   gender  avg_rate  review_rate  \\\n",
       "0  Ocho apellidos vascos  Comedia      5.50         3.00   \n",
       "0  Ocho apellidos vascos  Comedia      5.50         3.00   \n",
       "0  Ocho apellidos vascos  Comedia      5.50         3.00   \n",
       "\n",
       "                                     review_title    target       token  \n",
       "0  OCHO APELLIDOS VASCOS...Y NINGÚN NOMBRE PROPIO  negativo      virtud  \n",
       "0  OCHO APELLIDOS VASCOS...Y NINGÚN NOMBRE PROPIO  negativo    pelicula  \n",
       "0  OCHO APELLIDOS VASCOS...Y NINGÚN NOMBRE PROPIO  negativo  existencia  "
      ]
     },
     "execution_count": 44,
     "metadata": {},
     "output_type": "execute_result"
    }
   ],
   "source": [
    "# unnest de la columna 'r_text_cleaned' para tener una observación por fila al nivel en el que queremos nuestro df\n",
    "df_tidy = df.explode(column = 'text_cleaned')\n",
    "df_tidy = df_tidy.rename(columns = {'text_cleaned':'token'})\n",
    "df_tidy.drop(columns = ['review_text'] , inplace = True)\n",
    "df_tidy.head(3)"
   ]
  },
  {
   "cell_type": "markdown",
   "id": "df065176",
   "metadata": {},
   "source": [
    "### Palabras totales utilizadas por género"
   ]
  },
  {
   "cell_type": "code",
   "execution_count": 45,
   "id": "cec9a91d",
   "metadata": {},
   "outputs": [
    {
     "data": {
      "text/plain": [
       "gender\n",
       "Comedia       207184\n",
       "Drama         156159\n",
       "Aventuras      90909\n",
       "Terror         73946\n",
       "Thriller       65878\n",
       "Cine negro     42058\n",
       "Fantástico     38327\n",
       "Animación      26767\n",
       "Romance        23203\n",
       "Intriga        20637\n",
       "Musical         3501\n",
       "Name: token, dtype: int64"
      ]
     },
     "execution_count": 45,
     "metadata": {},
     "output_type": "execute_result"
    }
   ],
   "source": [
    "df_tidy.groupby('gender')['token'].count().sort_values(ascending = False)"
   ]
  },
  {
   "cell_type": "code",
   "execution_count": 46,
   "id": "0d53c6df",
   "metadata": {},
   "outputs": [
    {
     "data": {
      "image/png": "[encoded data removed]",
      "text/plain": [
       "<Figure size 432x288 with 1 Axes>"
      ]
     },
     "metadata": {
      "needs_background": "light"
     },
     "output_type": "display_data"
    }
   ],
   "source": [
    "g = df_tidy.groupby('gender')['token'].nunique().sort_values(ascending = False)\n",
    "sns.countplot(x = df_tidy.gender, data = df_tidy, order = g.index)\n",
    "plt.title('Palabras totales utilizadas por género')\n",
    "plt.tick_params(axis = 'x', labelrotation = 90);"
   ]
  },
  {
   "cell_type": "markdown",
   "id": "10c2d11b",
   "metadata": {},
   "source": [
    "### Palabras únicas utilizadas por género"
   ]
  },
  {
   "cell_type": "code",
   "execution_count": 47,
   "id": "fafffbdc",
   "metadata": {},
   "outputs": [
    {
     "data": {
      "text/plain": [
       "gender\n",
       "Comedia       28192\n",
       "Drama         24984\n",
       "Aventuras     17827\n",
       "Terror        14971\n",
       "Thriller      14598\n",
       "Cine negro    11176\n",
       "Fantástico     9821\n",
       "Animación      7940\n",
       "Romance        7879\n",
       "Intriga        6885\n",
       "Musical        1743\n",
       "Name: token, dtype: int64"
      ]
     },
     "execution_count": 47,
     "metadata": {},
     "output_type": "execute_result"
    }
   ],
   "source": [
    "df_tidy.groupby('gender')['token'].nunique().sort_values(ascending = False)"
   ]
  },
  {
   "cell_type": "code",
   "execution_count": 48,
   "id": "822aeb4a",
   "metadata": {},
   "outputs": [
    {
     "data": {
      "image/png": "[encoded data removed]",
      "text/plain": [
       "<Figure size 504x504 with 1 Axes>"
      ]
     },
     "metadata": {
      "needs_background": "light"
     },
     "output_type": "display_data"
    }
   ],
   "source": [
    "p = df_tidy.groupby('gender')['token'].nunique().sort_values(ascending = False)\n",
    "f, ax = plt.subplots(figsize = (7,7))\n",
    "sns.barplot(x = p.index, y = p.values)\n",
    "ax.set_title('Nº de palabras únicas utilizadas por género')\n",
    "ax.tick_params(axis = 'x', labelsize = 13, labelrotation = 90)\n",
    "ax.tick_params(axis = 'y', labelsize = 13);"
   ]
  },
  {
   "cell_type": "markdown",
   "id": "24b1c955",
   "metadata": {},
   "source": [
    "## Longitud media de reviews"
   ]
  },
  {
   "cell_type": "code",
   "execution_count": 49,
   "id": "e1787f52",
   "metadata": {},
   "outputs": [
    {
     "data": {
      "text/html": [
       "<div>\n",
       "<style scoped>\n",
       "    .dataframe tbody tr th:only-of-type {\n",
       "        vertical-align: middle;\n",
       "    }\n",
       "\n",
       "    .dataframe tbody tr th {\n",
       "        vertical-align: top;\n",
       "    }\n",
       "\n",
       "    .dataframe thead th {\n",
       "        text-align: right;\n",
       "    }\n",
       "</style>\n",
       "<table border=\"1\" class=\"dataframe\">\n",
       "  <thead>\n",
       "    <tr style=\"text-align: right;\">\n",
       "      <th></th>\n",
       "      <th>mean</th>\n",
       "      <th>std</th>\n",
       "    </tr>\n",
       "    <tr>\n",
       "      <th>gender</th>\n",
       "      <th></th>\n",
       "      <th></th>\n",
       "    </tr>\n",
       "  </thead>\n",
       "  <tbody>\n",
       "    <tr>\n",
       "      <th>Cine negro</th>\n",
       "      <td>102.58</td>\n",
       "      <td>82.85</td>\n",
       "    </tr>\n",
       "    <tr>\n",
       "      <th>Aventuras</th>\n",
       "      <td>99.03</td>\n",
       "      <td>59.79</td>\n",
       "    </tr>\n",
       "    <tr>\n",
       "      <th>Drama</th>\n",
       "      <td>96.57</td>\n",
       "      <td>70.11</td>\n",
       "    </tr>\n",
       "    <tr>\n",
       "      <th>Animación</th>\n",
       "      <td>96.28</td>\n",
       "      <td>69.09</td>\n",
       "    </tr>\n",
       "    <tr>\n",
       "      <th>Thriller</th>\n",
       "      <td>88.78</td>\n",
       "      <td>67.50</td>\n",
       "    </tr>\n",
       "    <tr>\n",
       "      <th>Comedia</th>\n",
       "      <td>85.83</td>\n",
       "      <td>70.76</td>\n",
       "    </tr>\n",
       "    <tr>\n",
       "      <th>Intriga</th>\n",
       "      <td>83.89</td>\n",
       "      <td>50.42</td>\n",
       "    </tr>\n",
       "    <tr>\n",
       "      <th>Romance</th>\n",
       "      <td>83.77</td>\n",
       "      <td>58.40</td>\n",
       "    </tr>\n",
       "    <tr>\n",
       "      <th>Terror</th>\n",
       "      <td>80.46</td>\n",
       "      <td>55.86</td>\n",
       "    </tr>\n",
       "    <tr>\n",
       "      <th>Fantástico</th>\n",
       "      <td>79.68</td>\n",
       "      <td>59.05</td>\n",
       "    </tr>\n",
       "    <tr>\n",
       "      <th>Musical</th>\n",
       "      <td>55.57</td>\n",
       "      <td>38.20</td>\n",
       "    </tr>\n",
       "  </tbody>\n",
       "</table>\n",
       "</div>"
      ],
      "text/plain": [
       "             mean   std\n",
       "gender                 \n",
       "Cine negro 102.58 82.85\n",
       "Aventuras   99.03 59.79\n",
       "Drama       96.57 70.11\n",
       "Animación   96.28 69.09\n",
       "Thriller    88.78 67.50\n",
       "Comedia     85.83 70.76\n",
       "Intriga     83.89 50.42\n",
       "Romance     83.77 58.40\n",
       "Terror      80.46 55.86\n",
       "Fantástico  79.68 59.05\n",
       "Musical     55.57 38.20"
      ]
     },
     "execution_count": 49,
     "metadata": {},
     "output_type": "execute_result"
    }
   ],
   "source": [
    "temp = pd.DataFrame(df_tidy.groupby(['gender','review_title'])['token'].count().reset_index())\n",
    "temp_l= temp.groupby('gender')['token'].agg(['mean','std']).sort_values('mean', ascending = False)\n",
    "temp_l"
   ]
  },
  {
   "cell_type": "code",
   "execution_count": 50,
   "id": "6da84268",
   "metadata": {},
   "outputs": [
    {
     "data": {
      "image/png": "[encoded data removed]",
      "text/plain": [
       "<Figure size 504x504 with 1 Axes>"
      ]
     },
     "metadata": {
      "needs_background": "light"
     },
     "output_type": "display_data"
    }
   ],
   "source": [
    "temp_l[['mean', 'std']].plot.bar(figsize = (7,7))\n",
    "plt.title('Longitud media de reviews')\n",
    "plt.tick_params(labelsize = 13)\n",
    "plt.xlabel('género', fontsize = 13)\n",
    "plt.ylabel('nº palabras', fontsize = 13);"
   ]
  },
  {
   "cell_type": "markdown",
   "id": "fb67b106",
   "metadata": {},
   "source": [
    "## Palabras más utilizadas en los géneros Comedia y Drama"
   ]
  },
  {
   "cell_type": "code",
   "execution_count": 51,
   "id": "9a477573",
   "metadata": {},
   "outputs": [
    {
     "data": {
      "text/html": [
       "<div>\n",
       "<style scoped>\n",
       "    .dataframe tbody tr th:only-of-type {\n",
       "        vertical-align: middle;\n",
       "    }\n",
       "\n",
       "    .dataframe tbody tr th {\n",
       "        vertical-align: top;\n",
       "    }\n",
       "\n",
       "    .dataframe thead th {\n",
       "        text-align: right;\n",
       "    }\n",
       "</style>\n",
       "<table border=\"1\" class=\"dataframe\">\n",
       "  <thead>\n",
       "    <tr style=\"text-align: right;\">\n",
       "      <th></th>\n",
       "      <th></th>\n",
       "      <th>gender</th>\n",
       "      <th>token</th>\n",
       "      <th>count</th>\n",
       "    </tr>\n",
       "    <tr>\n",
       "      <th>gender</th>\n",
       "      <th></th>\n",
       "      <th></th>\n",
       "      <th></th>\n",
       "      <th></th>\n",
       "    </tr>\n",
       "  </thead>\n",
       "  <tbody>\n",
       "    <tr>\n",
       "      <th rowspan=\"10\" valign=\"top\">Comedia</th>\n",
       "      <th>56249</th>\n",
       "      <td>Comedia</td>\n",
       "      <td>pelicula</td>\n",
       "      <td>4401</td>\n",
       "    </tr>\n",
       "    <tr>\n",
       "      <th>41814</th>\n",
       "      <td>Comedia</td>\n",
       "      <td>cine</td>\n",
       "      <td>1643</td>\n",
       "    </tr>\n",
       "    <tr>\n",
       "      <th>42189</th>\n",
       "      <td>Comedia</td>\n",
       "      <td>comedia</td>\n",
       "      <td>1317</td>\n",
       "    </tr>\n",
       "    <tr>\n",
       "      <th>62699</th>\n",
       "      <td>Comedia</td>\n",
       "      <td>torrente</td>\n",
       "      <td>1315</td>\n",
       "    </tr>\n",
       "    <tr>\n",
       "      <th>62118</th>\n",
       "      <td>Comedia</td>\n",
       "      <td>te</td>\n",
       "      <td>997</td>\n",
       "    </tr>\n",
       "    <tr>\n",
       "      <th>50477</th>\n",
       "      <td>Comedia</td>\n",
       "      <td>humor</td>\n",
       "      <td>930</td>\n",
       "    </tr>\n",
       "    <tr>\n",
       "      <th>60619</th>\n",
       "      <td>Comedia</td>\n",
       "      <td>segura</td>\n",
       "      <td>873</td>\n",
       "    </tr>\n",
       "    <tr>\n",
       "      <th>56588</th>\n",
       "      <td>Comedia</td>\n",
       "      <td>personajes</td>\n",
       "      <td>852</td>\n",
       "    </tr>\n",
       "    <tr>\n",
       "      <th>50260</th>\n",
       "      <td>Comedia</td>\n",
       "      <td>historia</td>\n",
       "      <td>838</td>\n",
       "    </tr>\n",
       "    <tr>\n",
       "      <th>56587</th>\n",
       "      <td>Comedia</td>\n",
       "      <td>personaje</td>\n",
       "      <td>821</td>\n",
       "    </tr>\n",
       "    <tr>\n",
       "      <th rowspan=\"10\" valign=\"top\">Drama</th>\n",
       "      <th>82400</th>\n",
       "      <td>Drama</td>\n",
       "      <td>pelicula</td>\n",
       "      <td>3504</td>\n",
       "    </tr>\n",
       "    <tr>\n",
       "      <th>76912</th>\n",
       "      <td>Drama</td>\n",
       "      <td>historia</td>\n",
       "      <td>1422</td>\n",
       "    </tr>\n",
       "    <tr>\n",
       "      <th>69327</th>\n",
       "      <td>Drama</td>\n",
       "      <td>cine</td>\n",
       "      <td>1070</td>\n",
       "    </tr>\n",
       "    <tr>\n",
       "      <th>66232</th>\n",
       "      <td>Drama</td>\n",
       "      <td>almodovar</td>\n",
       "      <td>712</td>\n",
       "    </tr>\n",
       "    <tr>\n",
       "      <th>87634</th>\n",
       "      <td>Drama</td>\n",
       "      <td>te</td>\n",
       "      <td>636</td>\n",
       "    </tr>\n",
       "    <tr>\n",
       "      <th>72663</th>\n",
       "      <td>Drama</td>\n",
       "      <td>director</td>\n",
       "      <td>623</td>\n",
       "    </tr>\n",
       "    <tr>\n",
       "      <th>82696</th>\n",
       "      <td>Drama</td>\n",
       "      <td>personajes</td>\n",
       "      <td>574</td>\n",
       "    </tr>\n",
       "    <tr>\n",
       "      <th>82403</th>\n",
       "      <td>Drama</td>\n",
       "      <td>peliculas</td>\n",
       "      <td>545</td>\n",
       "    </tr>\n",
       "    <tr>\n",
       "      <th>89115</th>\n",
       "      <td>Drama</td>\n",
       "      <td>vida</td>\n",
       "      <td>533</td>\n",
       "    </tr>\n",
       "    <tr>\n",
       "      <th>66385</th>\n",
       "      <td>Drama</td>\n",
       "      <td>amenabar</td>\n",
       "      <td>526</td>\n",
       "    </tr>\n",
       "  </tbody>\n",
       "</table>\n",
       "</div>"
      ],
      "text/plain": [
       "                gender       token  count\n",
       "gender                                   \n",
       "Comedia 56249  Comedia    pelicula   4401\n",
       "        41814  Comedia        cine   1643\n",
       "        42189  Comedia     comedia   1317\n",
       "        62699  Comedia    torrente   1315\n",
       "        62118  Comedia          te    997\n",
       "        50477  Comedia       humor    930\n",
       "        60619  Comedia      segura    873\n",
       "        56588  Comedia  personajes    852\n",
       "        50260  Comedia    historia    838\n",
       "        56587  Comedia   personaje    821\n",
       "Drama   82400    Drama    pelicula   3504\n",
       "        76912    Drama    historia   1422\n",
       "        69327    Drama        cine   1070\n",
       "        66232    Drama   almodovar    712\n",
       "        87634    Drama          te    636\n",
       "        72663    Drama    director    623\n",
       "        82696    Drama  personajes    574\n",
       "        82403    Drama   peliculas    545\n",
       "        89115    Drama        vida    533\n",
       "        66385    Drama    amenabar    526"
      ]
     },
     "execution_count": 51,
     "metadata": {},
     "output_type": "execute_result"
    }
   ],
   "source": [
    "temp = df_tidy.groupby(['gender', 'token'])['token'].count().reset_index(name = 'count') \\\n",
    "    .groupby('gender').apply(lambda x: x.sort_values('count', ascending = False).head(10))\n",
    "temp = temp.loc[temp['gender'].isin(['Comedia','Drama'])]\n",
    "temp"
   ]
  },
  {
   "cell_type": "markdown",
   "id": "24b4d982",
   "metadata": {},
   "source": [
    "## Comparación en el uso de palabras"
   ]
  },
  {
   "cell_type": "markdown",
   "id": "b31275e1",
   "metadata": {},
   "source": [
    "Palabras que se utilizan mucho en un género pero que no se usan en el otro. Haremos la comparación entre los géneros Comedia y Drama. El análisis lo podemos hacer mediante log of odds ratio de las frecuencias de cada token. En la fórmula siguiente se expresa siendo \"_nk_\" el número de veces que aparece el término \"_k_\" en las reviews de cada género y _N_ el nº total de términos de cada género."
   ]
  },
  {
   "attachments": {
    "image-2.png": {
     "image/png": "[encoded data removed]"
    }
   },
   "cell_type": "markdown",
   "id": "50da283d",
   "metadata": {},
   "source": [
    "![image-2.png](attachment:image-2.png)"
   ]
  },
  {
   "cell_type": "code",
   "execution_count": 52,
   "id": "72091f8c",
   "metadata": {},
   "outputs": [
    {
     "data": {
      "text/html": [
       "<div>\n",
       "<style scoped>\n",
       "    .dataframe tbody tr th:only-of-type {\n",
       "        vertical-align: middle;\n",
       "    }\n",
       "\n",
       "    .dataframe tbody tr th {\n",
       "        vertical-align: top;\n",
       "    }\n",
       "\n",
       "    .dataframe thead th {\n",
       "        text-align: right;\n",
       "    }\n",
       "</style>\n",
       "<table border=\"1\" class=\"dataframe\">\n",
       "  <thead>\n",
       "    <tr style=\"text-align: right;\">\n",
       "      <th></th>\n",
       "      <th>Comedia</th>\n",
       "      <th>Drama</th>\n",
       "      <th>log_odds</th>\n",
       "      <th>abs_log_odds</th>\n",
       "      <th>frequent_gender</th>\n",
       "    </tr>\n",
       "    <tr>\n",
       "      <th>token</th>\n",
       "      <th></th>\n",
       "      <th></th>\n",
       "      <th></th>\n",
       "      <th></th>\n",
       "      <th></th>\n",
       "    </tr>\n",
       "  </thead>\n",
       "  <tbody>\n",
       "    <tr>\n",
       "      <th>penelope</th>\n",
       "      <td>0.00</td>\n",
       "      <td>0.00</td>\n",
       "      <td>-6.02</td>\n",
       "      <td>6.02</td>\n",
       "      <td>Drama</td>\n",
       "    </tr>\n",
       "    <tr>\n",
       "      <th>watts</th>\n",
       "      <td>0.00</td>\n",
       "      <td>0.00</td>\n",
       "      <td>-5.82</td>\n",
       "      <td>5.82</td>\n",
       "      <td>Drama</td>\n",
       "    </tr>\n",
       "    <tr>\n",
       "      <th>naomi</th>\n",
       "      <td>0.00</td>\n",
       "      <td>0.00</td>\n",
       "      <td>-5.70</td>\n",
       "      <td>5.70</td>\n",
       "      <td>Drama</td>\n",
       "    </tr>\n",
       "    <tr>\n",
       "      <th>unamuno</th>\n",
       "      <td>0.00</td>\n",
       "      <td>0.00</td>\n",
       "      <td>-5.51</td>\n",
       "      <td>5.51</td>\n",
       "      <td>Drama</td>\n",
       "    </tr>\n",
       "    <tr>\n",
       "      <th>tsunami</th>\n",
       "      <td>0.00</td>\n",
       "      <td>0.00</td>\n",
       "      <td>-5.39</td>\n",
       "      <td>5.39</td>\n",
       "      <td>Drama</td>\n",
       "    </tr>\n",
       "    <tr>\n",
       "      <th>machi</th>\n",
       "      <td>0.00</td>\n",
       "      <td>0.00</td>\n",
       "      <td>5.38</td>\n",
       "      <td>5.38</td>\n",
       "      <td>Comedia</td>\n",
       "    </tr>\n",
       "    <tr>\n",
       "      <th>rovira</th>\n",
       "      <td>0.00</td>\n",
       "      <td>0.00</td>\n",
       "      <td>5.38</td>\n",
       "      <td>5.38</td>\n",
       "      <td>Comedia</td>\n",
       "    </tr>\n",
       "    <tr>\n",
       "      <th>mcgregor</th>\n",
       "      <td>0.00</td>\n",
       "      <td>0.00</td>\n",
       "      <td>-5.35</td>\n",
       "      <td>5.35</td>\n",
       "      <td>Drama</td>\n",
       "    </tr>\n",
       "    <tr>\n",
       "      <th>sampedro</th>\n",
       "      <td>0.00</td>\n",
       "      <td>0.00</td>\n",
       "      <td>-5.27</td>\n",
       "      <td>5.27</td>\n",
       "      <td>Drama</td>\n",
       "    </tr>\n",
       "    <tr>\n",
       "      <th>dani</th>\n",
       "      <td>0.00</td>\n",
       "      <td>0.00</td>\n",
       "      <td>5.24</td>\n",
       "      <td>5.24</td>\n",
       "      <td>Comedia</td>\n",
       "    </tr>\n",
       "  </tbody>\n",
       "</table>\n",
       "</div>"
      ],
      "text/plain": [
       "          Comedia  Drama  log_odds  abs_log_odds frequent_gender\n",
       "token                                                           \n",
       "penelope     0.00   0.00     -6.02          6.02           Drama\n",
       "watts        0.00   0.00     -5.82          5.82           Drama\n",
       "naomi        0.00   0.00     -5.70          5.70           Drama\n",
       "unamuno      0.00   0.00     -5.51          5.51           Drama\n",
       "tsunami      0.00   0.00     -5.39          5.39           Drama\n",
       "machi        0.00   0.00      5.38          5.38         Comedia\n",
       "rovira       0.00   0.00      5.38          5.38         Comedia\n",
       "mcgregor     0.00   0.00     -5.35          5.35           Drama\n",
       "sampedro     0.00   0.00     -5.27          5.27           Drama\n",
       "dani         0.00   0.00      5.24          5.24         Comedia"
      ]
     },
     "execution_count": 52,
     "metadata": {},
     "output_type": "execute_result"
    }
   ],
   "source": [
    "# Cálculo del log of odds ratio de cada palabra (Comedia vs Thriller)\n",
    "# pivotamos\n",
    "df_pivot = df_tidy.groupby(['gender','token'])['token'].agg(['count']).reset_index() \\\n",
    "    .pivot(index = 'token', columns = 'gender', values = 'count')[['Comedia','Drama']]\n",
    "\n",
    "# despivotamos rellenandos los NaN values por cero\n",
    "df_pivot = df_pivot.fillna(value = 0)\n",
    "df_pivot.columns.name = None\n",
    "\n",
    "df_unpivot = df_pivot.melt(value_name = 'n', var_name = 'gender', ignore_index = False).reset_index()\n",
    "\n",
    "# Añadimos el total de palabras de cada género\n",
    "df_unpivot = df_unpivot.merge(df_tidy.groupby('gender')['token'].count().rename('N'),\n",
    "                 how = 'left',\n",
    "                 on = 'gender')\n",
    "\n",
    "# Calculo de odds y log of odds de cada palabra\n",
    "df_logOdds = df_unpivot.copy()\n",
    "df_logOdds['odds'] = (df_logOdds.n + 1) / (df_logOdds.N + 1)\n",
    "df_logOdds = df_logOdds[['token','gender','odds']].pivot(index = 'token', columns = 'gender', values = 'odds')\n",
    "df_logOdds.columns.name = None\n",
    "\n",
    "df_logOdds['log_odds'] = np.log(df_logOdds['Comedia']/df_logOdds['Drama'])\n",
    "df_logOdds['abs_log_odds'] = np.abs(df_logOdds['log_odds'])\n",
    "\n",
    "# Si log_odds > 0, significa que la palabra tiene mayor probabilidad de ser del género de Comedia \n",
    "# porque el ratio se ha calculado como Comedia/Drama\n",
    "df_logOdds['frequent_gender'] = np.where(df_logOdds['log_odds'] > 0, 'Comedia','Drama')\n",
    "\n",
    "# Obtenemos las 10 palabras más diferenciadoras\n",
    "df_logOdds.nlargest(n=10, columns = 'abs_log_odds')"
   ]
  },
  {
   "cell_type": "markdown",
   "id": "ecf6939c",
   "metadata": {},
   "source": [
    "## Las 15 palabras más características de ambos géneros de comparación "
   ]
  },
  {
   "cell_type": "code",
   "execution_count": 54,
   "id": "3b67da21",
   "metadata": {},
   "outputs": [
    {
     "data": {
      "image/png": "[encoded data removed]",
      "text/plain": [
       "<Figure size 504x648 with 1 Axes>"
      ]
     },
     "metadata": {
      "needs_background": "light"
     },
     "output_type": "display_data"
    }
   ],
   "source": [
    "top_15 = df_logOdds[['log_odds', 'abs_log_odds', 'frequent_gender']] \\\n",
    ".groupby('frequent_gender') \\\n",
    ".apply(lambda x: x.nlargest(n = 15, columns = 'abs_log_odds').reset_index()) \\\n",
    ".reset_index(drop = True) \\\n",
    ".sort_values('log_odds') \n",
    "\n",
    "f, ax = plt.subplots(figsize = (7,9))\n",
    "sns.barplot(x = 'log_odds', y = 'token', hue = 'frequent_gender', data = top_15, ax = ax)\n",
    "ax.set_title('Las 15 palabras más características de los géneros Comedia y Thriller')\n",
    "ax.set_xlabel('log odds ratio Thriller vs Comedia')\n",
    "f.tight_layout();"
   ]
  },
  {
   "cell_type": "markdown",
   "id": "cc3a0e7a",
   "metadata": {},
   "source": [
    "# Modelo de clasificación de género"
   ]
  },
  {
   "cell_type": "markdown",
   "id": "a72641a9",
   "metadata": {},
   "source": [
    "Se compararán los comentarios de películas de género \"Comedia\" y \"Drama\" que son los géneros que continene más registros para ver si a través de los comentarios el modelo puede predecir de qué género se trata."
   ]
  },
  {
   "cell_type": "code",
   "execution_count": 55,
   "id": "75aae8df",
   "metadata": {},
   "outputs": [],
   "source": [
    "datos_X = df.loc[df.gender.isin(['Comedia','Drama']), 'review_text']\n",
    "datos_y = df.loc[df.gender.isin(['Comedia','Drama']), 'gender']"
   ]
  },
  {
   "cell_type": "markdown",
   "id": "5a421a12",
   "metadata": {},
   "source": [
    "## Reservamos el dataset de entrenamiento y validación"
   ]
  },
  {
   "cell_type": "code",
   "execution_count": 56,
   "id": "205e443a",
   "metadata": {},
   "outputs": [],
   "source": [
    "from sklearn.model_selection import train_test_split  \n",
    "X_train, X_test, y_train, y_test = train_test_split(datos_X,\n",
    "                                                    datos_y,\n",
    "                                                    test_size = 0.2,\n",
    "                                                    random_state = 0)"
   ]
  },
  {
   "cell_type": "code",
   "execution_count": 57,
   "id": "12372f1f",
   "metadata": {},
   "outputs": [
    {
     "data": {
      "text/plain": [
       "[]"
      ]
     },
     "execution_count": 57,
     "metadata": {},
     "output_type": "execute_result"
    }
   ],
   "source": [
    "# comprobamos si hay algún espacio en blanco en nuestro texto de tweets\n",
    "temp = df.copy()\n",
    "temp = temp[['gender','review_text','text_cleaned']]\n",
    "\n",
    "blanks = []\n",
    "\n",
    "# (index, label, review text)\n",
    "for i, género, review, texto_tokenizado in temp.itertuples():\n",
    "    if review.isspace():\n",
    "        blanks.append(i)\n",
    "blanks"
   ]
  },
  {
   "cell_type": "code",
   "execution_count": 58,
   "id": "aa233786",
   "metadata": {},
   "outputs": [
    {
     "name": "stdout",
     "output_type": "stream",
     "text": [
      "{'Comedia': 59.69387755102041, 'Drama': 40.30612244897959}\n",
      "{'Comedia': 60.624249699879954, 'Drama': 39.375750300120046}\n"
     ]
    }
   ],
   "source": [
    "# Verificamos que la proporción de cada grupo es similar en set de training and testing\n",
    "value, counts = np.unique(y_train, return_counts=True)\n",
    "print(dict(zip(value, 100 * counts / sum(counts))))\n",
    "value, counts = np.unique(y_test, return_counts=True)\n",
    "print(dict(zip(value, 100 * counts / sum(counts))))"
   ]
  },
  {
   "cell_type": "code",
   "execution_count": 59,
   "id": "6ed99e08",
   "metadata": {},
   "outputs": [
    {
     "data": {
      "text/plain": [
       "TfidfVectorizer(min_df=3,\n",
       "                stop_words=['algun', 'alguna', 'algunas', 'alguno', 'algunos',\n",
       "                            'ambos', 'ampleamos', 'ante', 'antes', 'aquel',\n",
       "                            'aquellas', 'aquellos', 'aqui', 'arriba', 'atras',\n",
       "                            'bajo', 'bastante', 'bien', 'cada', 'cierta',\n",
       "                            'ciertas', 'cierto', 'ciertos', 'como', 'con',\n",
       "                            'conseguimos', 'conseguir', 'consigo', 'consigue',\n",
       "                            'consiguen', ...],\n",
       "                tokenizer=<function limpiar_tokenizar at 0x000000001F6D8C10>)"
      ]
     },
     "execution_count": 59,
     "metadata": {},
     "output_type": "execute_result"
    }
   ],
   "source": [
    "# Creación de la matriz tf-idf\n",
    "from sklearn.feature_extraction.text import TfidfVectorizer\n",
    "\n",
    "tfidf_vectorizador = TfidfVectorizer(tokenizer  = limpiar_tokenizar,\n",
    "                                     min_df     = 3,\n",
    "                                     stop_words = stop.limpias.to_list())\n",
    "tfidf_vectorizador.fit(X_train)"
   ]
  },
  {
   "cell_type": "code",
   "execution_count": 60,
   "id": "e8a2d6d2",
   "metadata": {},
   "outputs": [],
   "source": [
    "# transformamos los documentos de test de la matriz obtenida previamente en \"train\"\n",
    "tfidf_train = tfidf_vectorizador.transform(X_train)\n",
    "tfidf_test  = tfidf_vectorizador.transform(X_test)"
   ]
  },
  {
   "cell_type": "markdown",
   "id": "5eb57de3",
   "metadata": {},
   "source": [
    "## Creamos el pipe y el diccionario de algoritmos, parámetros y valores a testar"
   ]
  },
  {
   "cell_type": "markdown",
   "id": "72206db7",
   "metadata": {},
   "source": [
    "Como comprobaremos más tarde la regresión logística nos ofrece muy buenos resultados por lo que no probaremos otros algoritmos"
   ]
  },
  {
   "cell_type": "code",
   "execution_count": 61,
   "id": "32b7c860",
   "metadata": {},
   "outputs": [],
   "source": [
    "from sklearn.pipeline import Pipeline\n",
    "from sklearn.linear_model import LogisticRegression\n",
    "pipe = Pipeline([('algoritmo',LogisticRegression())])\n",
    "\n",
    "grid = {'algoritmo': [LogisticRegression()],\n",
    "         'algoritmo__n_jobs': [-1],\n",
    "         'algoritmo__solver': ['saga'],\n",
    "         'algoritmo__penalty': ['elasticnet', 'l1', 'l2', 'none'],\n",
    "         'algoritmo__C': [0,0.25,0.5,0.75,1]}"
   ]
  },
  {
   "cell_type": "markdown",
   "id": "7814f848",
   "metadata": {},
   "source": [
    "## Aplicamos random search"
   ]
  },
  {
   "cell_type": "code",
   "execution_count": 62,
   "id": "936d84f3",
   "metadata": {
    "scrolled": false
   },
   "outputs": [
    {
     "name": "stdout",
     "output_type": "stream",
     "text": [
      "Fitting 3 folds for each of 5 candidates, totalling 15 fits\n"
     ]
    },
    {
     "data": {
      "text/html": [
       "<div>\n",
       "<style scoped>\n",
       "    .dataframe tbody tr th:only-of-type {\n",
       "        vertical-align: middle;\n",
       "    }\n",
       "\n",
       "    .dataframe tbody tr th {\n",
       "        vertical-align: top;\n",
       "    }\n",
       "\n",
       "    .dataframe thead th {\n",
       "        text-align: right;\n",
       "    }\n",
       "</style>\n",
       "<table border=\"1\" class=\"dataframe\">\n",
       "  <thead>\n",
       "    <tr style=\"text-align: right;\">\n",
       "      <th></th>\n",
       "      <th>param_algoritmo__penalty</th>\n",
       "      <th>param_algoritmo</th>\n",
       "      <th>param_algoritmo__C</th>\n",
       "      <th>param_algoritmo</th>\n",
       "      <th>mean_test_score</th>\n",
       "      <th>std_test_score</th>\n",
       "      <th>rank_test_score</th>\n",
       "    </tr>\n",
       "  </thead>\n",
       "  <tbody>\n",
       "    <tr>\n",
       "      <th>0</th>\n",
       "      <td>none</td>\n",
       "      <td>LogisticRegression(C=0, n_jobs=-1, penalty='no...</td>\n",
       "      <td>0</td>\n",
       "      <td>LogisticRegression(C=0, n_jobs=-1, penalty='no...</td>\n",
       "      <td>1.00</td>\n",
       "      <td>0.00</td>\n",
       "      <td>1</td>\n",
       "    </tr>\n",
       "    <tr>\n",
       "      <th>2</th>\n",
       "      <td>none</td>\n",
       "      <td>LogisticRegression(C=0, n_jobs=-1, penalty='no...</td>\n",
       "      <td>1</td>\n",
       "      <td>LogisticRegression(C=0, n_jobs=-1, penalty='no...</td>\n",
       "      <td>1.00</td>\n",
       "      <td>0.00</td>\n",
       "      <td>2</td>\n",
       "    </tr>\n",
       "    <tr>\n",
       "      <th>4</th>\n",
       "      <td>l2</td>\n",
       "      <td>LogisticRegression(C=0, n_jobs=-1, penalty='no...</td>\n",
       "      <td>0.25</td>\n",
       "      <td>LogisticRegression(C=0, n_jobs=-1, penalty='no...</td>\n",
       "      <td>1.00</td>\n",
       "      <td>0.00</td>\n",
       "      <td>3</td>\n",
       "    </tr>\n",
       "    <tr>\n",
       "      <th>1</th>\n",
       "      <td>l1</td>\n",
       "      <td>LogisticRegression(C=0, n_jobs=-1, penalty='no...</td>\n",
       "      <td>0</td>\n",
       "      <td>LogisticRegression(C=0, n_jobs=-1, penalty='no...</td>\n",
       "      <td>NaN</td>\n",
       "      <td>NaN</td>\n",
       "      <td>4</td>\n",
       "    </tr>\n",
       "    <tr>\n",
       "      <th>3</th>\n",
       "      <td>elasticnet</td>\n",
       "      <td>LogisticRegression(C=0, n_jobs=-1, penalty='no...</td>\n",
       "      <td>0.50</td>\n",
       "      <td>LogisticRegression(C=0, n_jobs=-1, penalty='no...</td>\n",
       "      <td>NaN</td>\n",
       "      <td>NaN</td>\n",
       "      <td>5</td>\n",
       "    </tr>\n",
       "  </tbody>\n",
       "</table>\n",
       "</div>"
      ],
      "text/plain": [
       "  param_algoritmo__penalty                                    param_algoritmo  \\\n",
       "0                     none  LogisticRegression(C=0, n_jobs=-1, penalty='no...   \n",
       "2                     none  LogisticRegression(C=0, n_jobs=-1, penalty='no...   \n",
       "4                       l2  LogisticRegression(C=0, n_jobs=-1, penalty='no...   \n",
       "1                       l1  LogisticRegression(C=0, n_jobs=-1, penalty='no...   \n",
       "3               elasticnet  LogisticRegression(C=0, n_jobs=-1, penalty='no...   \n",
       "\n",
       "  param_algoritmo__C                                    param_algoritmo  \\\n",
       "0                  0  LogisticRegression(C=0, n_jobs=-1, penalty='no...   \n",
       "2                  1  LogisticRegression(C=0, n_jobs=-1, penalty='no...   \n",
       "4               0.25  LogisticRegression(C=0, n_jobs=-1, penalty='no...   \n",
       "1                  0  LogisticRegression(C=0, n_jobs=-1, penalty='no...   \n",
       "3               0.50  LogisticRegression(C=0, n_jobs=-1, penalty='no...   \n",
       "\n",
       "   mean_test_score  std_test_score  rank_test_score  \n",
       "0             1.00            0.00                1  \n",
       "2             1.00            0.00                2  \n",
       "4             1.00            0.00                3  \n",
       "1              NaN             NaN                4  \n",
       "3              NaN             NaN                5  "
      ]
     },
     "execution_count": 62,
     "metadata": {},
     "output_type": "execute_result"
    }
   ],
   "source": [
    "from sklearn.model_selection import RandomizedSearchCV\n",
    "random_search = RandomizedSearchCV(estimator = pipe,\n",
    "                                   param_distributions = grid, \n",
    "                                   n_iter = 5, \n",
    "                                   cv = 3, \n",
    "                                   scoring = 'roc_auc', \n",
    "                                   verbose = 1,\n",
    "                                   n_jobs = -1)\n",
    "    \n",
    "\n",
    "modelo = random_search.fit(X = tfidf_train, y = y_train)\n",
    "\n",
    "pd.DataFrame(random_search.cv_results_).sort_values(by = 'rank_test_score') \\\n",
    "    [['param_algoritmo__penalty', 'param_algoritmo',\n",
    "      'param_algoritmo__C','param_algoritmo', 'mean_test_score','std_test_score','rank_test_score']]"
   ]
  },
  {
   "cell_type": "markdown",
   "id": "e1652427",
   "metadata": {},
   "source": [
    "## Predecir sobre validación "
   ]
  },
  {
   "cell_type": "code",
   "execution_count": 63,
   "id": "905dd15a",
   "metadata": {},
   "outputs": [],
   "source": [
    "pred = modelo.best_estimator_.predict_proba(tfidf_test)[:, 1]"
   ]
  },
  {
   "cell_type": "markdown",
   "id": "3228d495",
   "metadata": {},
   "source": [
    "## Evaluar sobre validación"
   ]
  },
  {
   "cell_type": "code",
   "execution_count": 64,
   "id": "bbf8d4d6",
   "metadata": {},
   "outputs": [
    {
     "data": {
      "text/plain": [
       "0.9968968848104323"
      ]
     },
     "execution_count": 64,
     "metadata": {},
     "output_type": "execute_result"
    }
   ],
   "source": [
    "from sklearn.metrics import roc_auc_score\n",
    "\n",
    "roc_auc_score(y_test, pred)"
   ]
  },
  {
   "cell_type": "markdown",
   "id": "e98e5f56",
   "metadata": {},
   "source": [
    "# Análisis de sentimiento"
   ]
  },
  {
   "cell_type": "markdown",
   "id": "7516569e",
   "metadata": {},
   "source": [
    "Generamos un modelo que intente predecir si el comentario (review) es positivo (review_rate > 5) o por el contrario\n",
    "es negativo (review_rate > 5)"
   ]
  },
  {
   "cell_type": "code",
   "execution_count": 65,
   "id": "34b0616b",
   "metadata": {},
   "outputs": [],
   "source": [
    "# Definimos una target binaria\n",
    "df['target'] = df['review_rate'].apply(lambda x: 1 if x > 5 else 0)"
   ]
  },
  {
   "cell_type": "code",
   "execution_count": 66,
   "id": "78710ad2",
   "metadata": {},
   "outputs": [],
   "source": [
    "datos_X = df['review_text']\n",
    "datos_y = df['target']"
   ]
  },
  {
   "cell_type": "markdown",
   "id": "129db657",
   "metadata": {},
   "source": [
    "## Reservamos el dataset de entrenamiento y validación"
   ]
  },
  {
   "cell_type": "code",
   "execution_count": 67,
   "id": "52bbc01f",
   "metadata": {},
   "outputs": [],
   "source": [
    "from sklearn.model_selection import train_test_split  \n",
    "X_train, X_test, y_train, y_test = train_test_split(datos_X,\n",
    "                                                    datos_y,\n",
    "                                                    test_size = 0.2,\n",
    "                                                    random_state = 0)"
   ]
  },
  {
   "cell_type": "code",
   "execution_count": 68,
   "id": "a156f535",
   "metadata": {},
   "outputs": [
    {
     "name": "stdout",
     "output_type": "stream",
     "text": [
      "{0: 40.218023255813954, 1: 59.781976744186046}\n",
      "{0: 38.233585124927366, 1: 61.766414875072634}\n"
     ]
    }
   ],
   "source": [
    "# Verificamos que la proporción de cada grupo es similar en set de training and testing\n",
    "value, counts = np.unique(y_train, return_counts=True)\n",
    "print(dict(zip(value, 100 * counts / sum(counts))))\n",
    "value, counts = np.unique(y_test, return_counts=True)\n",
    "print(dict(zip(value, 100 * counts / sum(counts))))"
   ]
  },
  {
   "cell_type": "code",
   "execution_count": 69,
   "id": "57671847",
   "metadata": {},
   "outputs": [
    {
     "data": {
      "text/plain": [
       "TfidfVectorizer(min_df=3,\n",
       "                tokenizer=<function limpiar_tokenizar at 0x000000001F6D8C10>)"
      ]
     },
     "execution_count": 69,
     "metadata": {},
     "output_type": "execute_result"
    }
   ],
   "source": [
    "# Creación de la matriz tf-idf\n",
    "from sklearn.feature_extraction.text import TfidfVectorizer\n",
    "\n",
    "tfidf_vectorizador = TfidfVectorizer(tokenizer  = limpiar_tokenizar,\n",
    "                                     min_df     = 3,\n",
    "                                     stop_words = None)\n",
    "tfidf_vectorizador.fit(X_train)"
   ]
  },
  {
   "cell_type": "code",
   "execution_count": 70,
   "id": "2d68d190",
   "metadata": {},
   "outputs": [],
   "source": [
    "# transformamos los documentos de test de la matriz obtenida previamente en \"train\"\n",
    "tfidf_train = tfidf_vectorizador.transform(X_train)\n",
    "tfidf_test  = tfidf_vectorizador.transform(X_test)"
   ]
  },
  {
   "cell_type": "markdown",
   "id": "03e7b40d",
   "metadata": {},
   "source": [
    "## Creamos el pipe y el diccionario de algoritmos, parámetros y valores a testar"
   ]
  },
  {
   "cell_type": "code",
   "execution_count": 75,
   "id": "83ab2518",
   "metadata": {},
   "outputs": [],
   "source": [
    "from sklearn.pipeline import Pipeline\n",
    "from sklearn.linear_model import LogisticRegression\n",
    "from sklearn.ensemble import RandomForestClassifier\n",
    "pipe = Pipeline([('algoritmo',LogisticRegression())])\n",
    "\n",
    "grid = [{'algoritmo': [LogisticRegression()],\n",
    "         'algoritmo__n_jobs': [-1],\n",
    "         'algoritmo__solver': ['saga'],\n",
    "         'algoritmo__penalty': ['elasticnet', 'l1', 'l2', 'none'],\n",
    "         'algoritmo__C': [0,0.25,0.5,0.75,1]},\n",
    "        \n",
    "        {'algoritmo': [RandomForestClassifier()],\n",
    "         'algoritmo__n_jobs': [-1],\n",
    "         'algoritmo__max_depth': [5,10,15],\n",
    "         'algoritmo__n_estimators': [50,100,200]}]\n",
    "        \n"
   ]
  },
  {
   "cell_type": "markdown",
   "id": "be1b623f",
   "metadata": {},
   "source": [
    "## Aplicamos random search"
   ]
  },
  {
   "cell_type": "code",
   "execution_count": 81,
   "id": "0ca9f3a1",
   "metadata": {},
   "outputs": [
    {
     "name": "stdout",
     "output_type": "stream",
     "text": [
      "Fitting 3 folds for each of 5 candidates, totalling 15 fits\n"
     ]
    },
    {
     "data": {
      "text/html": [
       "<div>\n",
       "<style scoped>\n",
       "    .dataframe tbody tr th:only-of-type {\n",
       "        vertical-align: middle;\n",
       "    }\n",
       "\n",
       "    .dataframe tbody tr th {\n",
       "        vertical-align: top;\n",
       "    }\n",
       "\n",
       "    .dataframe thead th {\n",
       "        text-align: right;\n",
       "    }\n",
       "</style>\n",
       "<table border=\"1\" class=\"dataframe\">\n",
       "  <thead>\n",
       "    <tr style=\"text-align: right;\">\n",
       "      <th></th>\n",
       "      <th>param_algoritmo__penalty</th>\n",
       "      <th>param_algoritmo</th>\n",
       "      <th>param_algoritmo__C</th>\n",
       "      <th>param_algoritmo</th>\n",
       "      <th>mean_test_score</th>\n",
       "      <th>std_test_score</th>\n",
       "      <th>rank_test_score</th>\n",
       "    </tr>\n",
       "  </thead>\n",
       "  <tbody>\n",
       "    <tr>\n",
       "      <th>1</th>\n",
       "      <td>l2</td>\n",
       "      <td>LogisticRegression(C=1, n_jobs=-1, solver='saga')</td>\n",
       "      <td>1</td>\n",
       "      <td>LogisticRegression(C=1, n_jobs=-1, solver='saga')</td>\n",
       "      <td>0.88</td>\n",
       "      <td>0.01</td>\n",
       "      <td>1</td>\n",
       "    </tr>\n",
       "    <tr>\n",
       "      <th>3</th>\n",
       "      <td>l2</td>\n",
       "      <td>LogisticRegression(C=1, n_jobs=-1, solver='saga')</td>\n",
       "      <td>0.50</td>\n",
       "      <td>LogisticRegression(C=1, n_jobs=-1, solver='saga')</td>\n",
       "      <td>0.87</td>\n",
       "      <td>0.01</td>\n",
       "      <td>2</td>\n",
       "    </tr>\n",
       "    <tr>\n",
       "      <th>0</th>\n",
       "      <td>NaN</td>\n",
       "      <td>RandomForestClassifier()</td>\n",
       "      <td>NaN</td>\n",
       "      <td>RandomForestClassifier()</td>\n",
       "      <td>0.83</td>\n",
       "      <td>0.01</td>\n",
       "      <td>3</td>\n",
       "    </tr>\n",
       "    <tr>\n",
       "      <th>4</th>\n",
       "      <td>l1</td>\n",
       "      <td>LogisticRegression(C=1, n_jobs=-1, solver='saga')</td>\n",
       "      <td>0.75</td>\n",
       "      <td>LogisticRegression(C=1, n_jobs=-1, solver='saga')</td>\n",
       "      <td>0.82</td>\n",
       "      <td>0.01</td>\n",
       "      <td>4</td>\n",
       "    </tr>\n",
       "    <tr>\n",
       "      <th>2</th>\n",
       "      <td>NaN</td>\n",
       "      <td>RandomForestClassifier()</td>\n",
       "      <td>NaN</td>\n",
       "      <td>RandomForestClassifier()</td>\n",
       "      <td>0.80</td>\n",
       "      <td>0.01</td>\n",
       "      <td>5</td>\n",
       "    </tr>\n",
       "  </tbody>\n",
       "</table>\n",
       "</div>"
      ],
      "text/plain": [
       "  param_algoritmo__penalty                                    param_algoritmo  \\\n",
       "1                       l2  LogisticRegression(C=1, n_jobs=-1, solver='saga')   \n",
       "3                       l2  LogisticRegression(C=1, n_jobs=-1, solver='saga')   \n",
       "0                      NaN                           RandomForestClassifier()   \n",
       "4                       l1  LogisticRegression(C=1, n_jobs=-1, solver='saga')   \n",
       "2                      NaN                           RandomForestClassifier()   \n",
       "\n",
       "  param_algoritmo__C                                    param_algoritmo  \\\n",
       "1                  1  LogisticRegression(C=1, n_jobs=-1, solver='saga')   \n",
       "3               0.50  LogisticRegression(C=1, n_jobs=-1, solver='saga')   \n",
       "0                NaN                           RandomForestClassifier()   \n",
       "4               0.75  LogisticRegression(C=1, n_jobs=-1, solver='saga')   \n",
       "2                NaN                           RandomForestClassifier()   \n",
       "\n",
       "   mean_test_score  std_test_score  rank_test_score  \n",
       "1             0.88            0.01                1  \n",
       "3             0.87            0.01                2  \n",
       "0             0.83            0.01                3  \n",
       "4             0.82            0.01                4  \n",
       "2             0.80            0.01                5  "
      ]
     },
     "execution_count": 81,
     "metadata": {},
     "output_type": "execute_result"
    }
   ],
   "source": [
    "from sklearn.model_selection import RandomizedSearchCV\n",
    "random_search = RandomizedSearchCV(estimator = pipe,\n",
    "                                   param_distributions = grid, \n",
    "                                   n_iter = 5, \n",
    "                                   cv = 3, \n",
    "                                   scoring = 'roc_auc', \n",
    "                                   verbose = 1,\n",
    "                                   n_jobs = -1)\n",
    "    \n",
    "\n",
    "modelo = random_search.fit(X = tfidf_train, y = y_train)\n",
    "\n",
    "pd.DataFrame(random_search.cv_results_).sort_values(by = 'rank_test_score') \\\n",
    "    [['param_algoritmo__penalty', 'param_algoritmo',\n",
    "      'param_algoritmo__C','param_algoritmo', 'mean_test_score','std_test_score','rank_test_score']]"
   ]
  },
  {
   "cell_type": "markdown",
   "id": "da51cf76",
   "metadata": {},
   "source": [
    "## Predecir sobre validación"
   ]
  },
  {
   "cell_type": "code",
   "execution_count": 82,
   "id": "3bff4c5f",
   "metadata": {},
   "outputs": [],
   "source": [
    "pred = modelo.best_estimator_.predict_proba(tfidf_test)[:, 1]"
   ]
  },
  {
   "cell_type": "markdown",
   "id": "1e981258",
   "metadata": {},
   "source": [
    "## Evaluar sobre validación"
   ]
  },
  {
   "cell_type": "code",
   "execution_count": 83,
   "id": "f31f99b6",
   "metadata": {},
   "outputs": [
    {
     "data": {
      "text/plain": [
       "0.8909420776777314"
      ]
     },
     "execution_count": 83,
     "metadata": {},
     "output_type": "execute_result"
    }
   ],
   "source": [
    "from sklearn.metrics import roc_auc_score\n",
    "\n",
    "roc_auc_score(y_test, pred)"
   ]
  },
  {
   "cell_type": "markdown",
   "id": "09a3aa0d",
   "metadata": {},
   "source": [
    "## Conclusión"
   ]
  },
  {
   "cell_type": "markdown",
   "id": "8c14edd0",
   "metadata": {},
   "source": [
    "El módelo no es solo útil si no que nos ofrece muy buena capacidad predictiva"
   ]
  },
  {
   "cell_type": "markdown",
   "id": "48a34fdb",
   "metadata": {},
   "source": [
    "# Análisis de sentimiento2"
   ]
  },
  {
   "cell_type": "markdown",
   "id": "21c6d0dd",
   "metadata": {},
   "source": [
    "Analizamos el sentimiento de un texto considerando su sentimiento como la suma de los sentimientos de cada una de las palabras que lo forman. Para ello disponemos de un diccionario para asociar cada palabra con un nivel de sentimiento (sentiment lexicon)."
   ]
  },
  {
   "cell_type": "markdown",
   "id": "3f63c59b",
   "metadata": {},
   "source": [
    "En nuestro diccionario las palabras estarán clasificadas como positivas (1) o negativas (0)"
   ]
  },
  {
   "cell_type": "code",
   "execution_count": 155,
   "id": "cbaa8ff0",
   "metadata": {
    "scrolled": false
   },
   "outputs": [
    {
     "data": {
      "text/html": [
       "<div>\n",
       "<style scoped>\n",
       "    .dataframe tbody tr th:only-of-type {\n",
       "        vertical-align: middle;\n",
       "    }\n",
       "\n",
       "    .dataframe tbody tr th {\n",
       "        vertical-align: top;\n",
       "    }\n",
       "\n",
       "    .dataframe thead th {\n",
       "        text-align: right;\n",
       "    }\n",
       "</style>\n",
       "<table border=\"1\" class=\"dataframe\">\n",
       "  <thead>\n",
       "    <tr style=\"text-align: right;\">\n",
       "      <th></th>\n",
       "      <th>termino</th>\n",
       "      <th>polaridad</th>\n",
       "      <th>valor</th>\n",
       "    </tr>\n",
       "  </thead>\n",
       "  <tbody>\n",
       "    <tr>\n",
       "      <th>0</th>\n",
       "      <td>abandonar</td>\n",
       "      <td>negative</td>\n",
       "      <td>-1</td>\n",
       "    </tr>\n",
       "    <tr>\n",
       "      <th>1</th>\n",
       "      <td>aberrante</td>\n",
       "      <td>negative</td>\n",
       "      <td>-1</td>\n",
       "    </tr>\n",
       "    <tr>\n",
       "      <th>2</th>\n",
       "      <td>abominación</td>\n",
       "      <td>negative</td>\n",
       "      <td>-1</td>\n",
       "    </tr>\n",
       "  </tbody>\n",
       "</table>\n",
       "</div>"
      ],
      "text/plain": [
       "       termino polaridad  valor\n",
       "0    abandonar  negative     -1\n",
       "1    aberrante  negative     -1\n",
       "2  abominación  negative     -1"
      ]
     },
     "execution_count": 155,
     "metadata": {},
     "output_type": "execute_result"
    }
   ],
   "source": [
    "lexicon = pd.read_csv('subjectivity.csv')\n",
    "lexicon = lexicon[['termino','polaridad']]\n",
    "lexicon['valor'] = np.where(lexicon.polaridad == 'positive', 1, -1)\n",
    "lexicon.head(3)"
   ]
  },
  {
   "cell_type": "code",
   "execution_count": 156,
   "id": "161d1e4c",
   "metadata": {},
   "outputs": [
    {
     "data": {
      "text/html": [
       "<div>\n",
       "<style scoped>\n",
       "    .dataframe tbody tr th:only-of-type {\n",
       "        vertical-align: middle;\n",
       "    }\n",
       "\n",
       "    .dataframe tbody tr th {\n",
       "        vertical-align: top;\n",
       "    }\n",
       "\n",
       "    .dataframe thead th {\n",
       "        text-align: right;\n",
       "    }\n",
       "</style>\n",
       "<table border=\"1\" class=\"dataframe\">\n",
       "  <thead>\n",
       "    <tr style=\"text-align: right;\">\n",
       "      <th></th>\n",
       "      <th>termino</th>\n",
       "      <th>polaridad</th>\n",
       "      <th>valor</th>\n",
       "    </tr>\n",
       "  </thead>\n",
       "  <tbody>\n",
       "    <tr>\n",
       "      <th>0</th>\n",
       "      <td>abandonar</td>\n",
       "      <td>negative</td>\n",
       "      <td>-1</td>\n",
       "    </tr>\n",
       "    <tr>\n",
       "      <th>1</th>\n",
       "      <td>aberrante</td>\n",
       "      <td>negative</td>\n",
       "      <td>-1</td>\n",
       "    </tr>\n",
       "    <tr>\n",
       "      <th>2</th>\n",
       "      <td>abominacion</td>\n",
       "      <td>negative</td>\n",
       "      <td>-1</td>\n",
       "    </tr>\n",
       "  </tbody>\n",
       "</table>\n",
       "</div>"
      ],
      "text/plain": [
       "       termino polaridad  valor\n",
       "0    abandonar  negative     -1\n",
       "1    aberrante  negative     -1\n",
       "2  abominacion  negative     -1"
      ]
     },
     "execution_count": 156,
     "metadata": {},
     "output_type": "execute_result"
    }
   ],
   "source": [
    "# le quitamos las tildes a nuestro diccionario\n",
    "lexicon['termino'] = lexicon['termino'].apply(lambda x: quitar_tildes(x))\n",
    "lexicon.head(3)"
   ]
  },
  {
   "cell_type": "markdown",
   "id": "6e8ad30e",
   "metadata": {},
   "source": [
    "## Sentimiento promedio de cada review"
   ]
  },
  {
   "cell_type": "code",
   "execution_count": 157,
   "id": "c8597eee",
   "metadata": {},
   "outputs": [
    {
     "data": {
      "text/html": [
       "<div>\n",
       "<style scoped>\n",
       "    .dataframe tbody tr th:only-of-type {\n",
       "        vertical-align: middle;\n",
       "    }\n",
       "\n",
       "    .dataframe tbody tr th {\n",
       "        vertical-align: top;\n",
       "    }\n",
       "\n",
       "    .dataframe thead th {\n",
       "        text-align: right;\n",
       "    }\n",
       "</style>\n",
       "<table border=\"1\" class=\"dataframe\">\n",
       "  <thead>\n",
       "    <tr style=\"text-align: right;\">\n",
       "      <th></th>\n",
       "      <th>film_name</th>\n",
       "      <th>gender</th>\n",
       "      <th>avg_rate</th>\n",
       "      <th>review_rate</th>\n",
       "      <th>review_title</th>\n",
       "      <th>target</th>\n",
       "      <th>token</th>\n",
       "    </tr>\n",
       "  </thead>\n",
       "  <tbody>\n",
       "    <tr>\n",
       "      <th>0</th>\n",
       "      <td>Ocho apellidos vascos</td>\n",
       "      <td>Comedia</td>\n",
       "      <td>5.50</td>\n",
       "      <td>3.00</td>\n",
       "      <td>OCHO APELLIDOS VASCOS...Y NINGÚN NOMBRE PROPIO</td>\n",
       "      <td>negativo</td>\n",
       "      <td>virtud</td>\n",
       "    </tr>\n",
       "    <tr>\n",
       "      <th>0</th>\n",
       "      <td>Ocho apellidos vascos</td>\n",
       "      <td>Comedia</td>\n",
       "      <td>5.50</td>\n",
       "      <td>3.00</td>\n",
       "      <td>OCHO APELLIDOS VASCOS...Y NINGÚN NOMBRE PROPIO</td>\n",
       "      <td>negativo</td>\n",
       "      <td>pelicula</td>\n",
       "    </tr>\n",
       "    <tr>\n",
       "      <th>0</th>\n",
       "      <td>Ocho apellidos vascos</td>\n",
       "      <td>Comedia</td>\n",
       "      <td>5.50</td>\n",
       "      <td>3.00</td>\n",
       "      <td>OCHO APELLIDOS VASCOS...Y NINGÚN NOMBRE PROPIO</td>\n",
       "      <td>negativo</td>\n",
       "      <td>existencia</td>\n",
       "    </tr>\n",
       "  </tbody>\n",
       "</table>\n",
       "</div>"
      ],
      "text/plain": [
       "               film_name   gender  avg_rate  review_rate  \\\n",
       "0  Ocho apellidos vascos  Comedia      5.50         3.00   \n",
       "0  Ocho apellidos vascos  Comedia      5.50         3.00   \n",
       "0  Ocho apellidos vascos  Comedia      5.50         3.00   \n",
       "\n",
       "                                     review_title    target       token  \n",
       "0  OCHO APELLIDOS VASCOS...Y NINGÚN NOMBRE PROPIO  negativo      virtud  \n",
       "0  OCHO APELLIDOS VASCOS...Y NINGÚN NOMBRE PROPIO  negativo    pelicula  \n",
       "0  OCHO APELLIDOS VASCOS...Y NINGÚN NOMBRE PROPIO  negativo  existencia  "
      ]
     },
     "execution_count": 157,
     "metadata": {},
     "output_type": "execute_result"
    }
   ],
   "source": [
    "# Simplificamos nuestra target en comentarios positivos y negativos\n",
    "df_tidy['target'] = np.where(df_tidy['review_rate'] >= 5, 'positivo', 'negativo')\n",
    "df_tidy.head(3)"
   ]
  },
  {
   "cell_type": "code",
   "execution_count": 158,
   "id": "25bae074",
   "metadata": {},
   "outputs": [
    {
     "data": {
      "text/html": [
       "<div>\n",
       "<style scoped>\n",
       "    .dataframe tbody tr th:only-of-type {\n",
       "        vertical-align: middle;\n",
       "    }\n",
       "\n",
       "    .dataframe tbody tr th {\n",
       "        vertical-align: top;\n",
       "    }\n",
       "\n",
       "    .dataframe thead th {\n",
       "        text-align: right;\n",
       "    }\n",
       "</style>\n",
       "<table border=\"1\" class=\"dataframe\">\n",
       "  <thead>\n",
       "    <tr style=\"text-align: right;\">\n",
       "      <th></th>\n",
       "      <th>film_name</th>\n",
       "      <th>review_title</th>\n",
       "      <th>target</th>\n",
       "      <th>valor</th>\n",
       "    </tr>\n",
       "  </thead>\n",
       "  <tbody>\n",
       "    <tr>\n",
       "      <th>0</th>\n",
       "      <td>Ahora o nunca</td>\n",
       "      <td>\"Ahora o nunca\" una comedia forzada y sin gracia</td>\n",
       "      <td>negativo</td>\n",
       "      <td>-2</td>\n",
       "    </tr>\n",
       "    <tr>\n",
       "      <th>1</th>\n",
       "      <td>Ahora o nunca</td>\n",
       "      <td>Agradable sorpresa</td>\n",
       "      <td>positivo</td>\n",
       "      <td>2</td>\n",
       "    </tr>\n",
       "    <tr>\n",
       "      <th>2</th>\n",
       "      <td>Ahora o nunca</td>\n",
       "      <td>Ahora (me arrepiento de) o nunca (me aburri ta...</td>\n",
       "      <td>positivo</td>\n",
       "      <td>-1</td>\n",
       "    </tr>\n",
       "    <tr>\n",
       "      <th>3</th>\n",
       "      <td>Ahora o nunca</td>\n",
       "      <td>Ahora o Nunca. Now or never.</td>\n",
       "      <td>positivo</td>\n",
       "      <td>1</td>\n",
       "    </tr>\n",
       "    <tr>\n",
       "      <th>4</th>\n",
       "      <td>Ahora o nunca</td>\n",
       "      <td>Ahora o Nunca: Nueve apellidos vascos</td>\n",
       "      <td>negativo</td>\n",
       "      <td>-2</td>\n",
       "    </tr>\n",
       "  </tbody>\n",
       "</table>\n",
       "</div>"
      ],
      "text/plain": [
       "       film_name                                       review_title    target  \\\n",
       "0  Ahora o nunca   \"Ahora o nunca\" una comedia forzada y sin gracia  negativo   \n",
       "1  Ahora o nunca                                 Agradable sorpresa  positivo   \n",
       "2  Ahora o nunca  Ahora (me arrepiento de) o nunca (me aburri ta...  positivo   \n",
       "3  Ahora o nunca                       Ahora o Nunca. Now or never.  positivo   \n",
       "4  Ahora o nunca              Ahora o Nunca: Nueve apellidos vascos  negativo   \n",
       "\n",
       "   valor  \n",
       "0     -2  \n",
       "1      2  \n",
       "2     -1  \n",
       "3      1  \n",
       "4     -2  "
      ]
     },
     "execution_count": 158,
     "metadata": {},
     "output_type": "execute_result"
    }
   ],
   "source": [
    "df_sentimientos = pd.merge(left = df_tidy,\n",
    "                           right = lexicon,\n",
    "                           left_on = 'token',\n",
    "                           right_on = 'termino',\n",
    "                           how = 'inner')\n",
    "\n",
    "df_sentimientos.drop(columns = ['termino','polaridad'], inplace = True)\n",
    "\n",
    "\n",
    "df_sentimientos = df_sentimientos[['film_name','review_title','target','valor']] \\\n",
    "                    .groupby(['film_name','review_title','target']).sum() \\\n",
    "                    .reset_index()\n",
    "df_sentimientos.head()"
   ]
  },
  {
   "cell_type": "code",
   "execution_count": 159,
   "id": "36923d45",
   "metadata": {
    "scrolled": false
   },
   "outputs": [],
   "source": [
    "df_sentimientos['pred'] = np.where(df_sentimientos['valor'] >= 0, 1, 0)\n",
    "df_sentimientos['y'] = np.where(df_sentimientos['target'] == 'positivo', 1, 0)"
   ]
  },
  {
   "cell_type": "code",
   "execution_count": 161,
   "id": "4a1f6207",
   "metadata": {},
   "outputs": [
    {
     "data": {
      "text/plain": [
       "0.593272201774989"
      ]
     },
     "execution_count": 161,
     "metadata": {},
     "output_type": "execute_result"
    }
   ],
   "source": [
    "roc_auc_score(df_sentimientos['y'], df_sentimientos['pred'])"
   ]
  },
  {
   "cell_type": "markdown",
   "id": "18cdb3bb",
   "metadata": {},
   "source": [
    "## Conclusión"
   ]
  },
  {
   "cell_type": "markdown",
   "id": "a2d5c39a",
   "metadata": {},
   "source": [
    "Con este último método y usando este diccionario 'lexicon' no tenemos la capacidad de obtener buenas predicciones aplicando el método de sumar cada sentimiento de cada review"
   ]
  }
 ],
 "metadata": {
  "kernelspec": {
   "display_name": "Python 3 (ipykernel)",
   "language": "python",
   "name": "python3"
  },
  "language_info": {
   "codemirror_mode": {
    "name": "ipython",
    "version": 3
   },
   "file_extension": ".py",
   "mimetype": "text/x-python",
   "name": "python",
   "nbconvert_exporter": "python",
   "pygments_lexer": "ipython3",
   "version": "3.8.10"
  },
  "toc": {
   "base_numbering": 1,
   "nav_menu": {},
   "number_sections": true,
   "sideBar": true,
   "skip_h1_title": false,
   "title_cell": "Table of Contents",
   "title_sidebar": "Contents",
   "toc_cell": false,
   "toc_position": {
    "height": "calc(100% - 180px)",
    "left": "10px",
    "top": "150px",
    "width": "313.188px"
   },
   "toc_section_display": true,
   "toc_window_display": true
  },
  "varInspector": {
   "cols": {
    "lenName": 16,
    "lenType": 16,
    "lenVar": 40
   },
   "kernels_config": {
    "python": {
     "delete_cmd_postfix": "",
     "delete_cmd_prefix": "del ",
     "library": "var_list.py",
     "varRefreshCmd": "print(var_dic_list())"
    },
    "r": {
     "delete_cmd_postfix": ") ",
     "delete_cmd_prefix": "rm(",
     "library": "var_list.r",
     "varRefreshCmd": "cat(var_dic_list()) "
    }
   },
   "types_to_exclude": [
    "module",
    "function",
    "builtin_function_or_method",
    "instance",
    "_Feature"
   ],
   "window_display": false
  }
 },
 "nbformat": 4,
 "nbformat_minor": 5
}
